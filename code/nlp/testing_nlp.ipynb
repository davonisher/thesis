{
 "cells": [
  {
   "cell_type": "markdown",
   "metadata": {},
   "source": [
    "# Libraries\n"
   ]
  },
  {
   "cell_type": "code",
   "execution_count": 1,
   "metadata": {},
   "outputs": [],
   "source": [
    "import pandas as pd\n",
    "import numpy as np\n",
    "import matplotlib.pyplot as plt\n",
    "import seaborn as sns\n",
    "import os\n",
    "import re\n",
    "import datetime\n",
    "import openai\n"
   ]
  },
  {
   "cell_type": "markdown",
   "metadata": {},
   "source": [
    "# 1. Introduction\n",
    "\n",
    "In this project, our aim is to implement a number of machine learning models to answer  our research question on the AI Tools  dataset.\n",
    "\n",
    "- Research Question: Which predictors and criterion contribute to a good predictive model for AI tool success?\n",
    "\n",
    "During this theis project we consolidate the knowledge by building a variety of machine learning models independently."
   ]
  },
  {
   "cell_type": "markdown",
   "metadata": {},
   "source": [
    "# Testing categorization with multiple natural language options"
   ]
  },
  {
   "cell_type": "markdown",
   "metadata": {},
   "source": [
    "### Based on keywords"
   ]
  },
  {
   "cell_type": "code",
   "execution_count": 94,
   "metadata": {},
   "outputs": [
    {
     "name": "stdout",
     "output_type": "stream",
     "text": [
      "Accuracy of keyword-based classification: 0.2454308093994778\n"
     ]
    },
    {
     "data": {
      "text/plain": [
       "0.2454308093994778"
      ]
     },
     "execution_count": 94,
     "metadata": {},
     "output_type": "execute_result"
    }
   ],
   "source": [
    "category_keywords = {\n",
    "    'Digital Model of Physical Objects': ['3D model', 'CAD', 'digital twin', 'simulation'],\n",
    "    'Data': ['data', 'database', 'big data', 'analytics', 'data mining'],\n",
    "    'Process/Workflow': ['workflow', 'process', 'automation', 'BPM', 'business process'],\n",
    "    'Text': ['text', 'NLP', 'natural language processing', 'document', 'content'],\n",
    "    'Multimodal': ['multimodal', 'mixed media', 'multiple inputs', 'sensor fusion'],\n",
    "    'Code': ['code', 'programming', 'source code', 'repository', 'version control'],\n",
    "    'Data and Analytics': ['business intelligence', 'reporting', 'data analysis', 'visualization'],\n",
    "    'Sound': ['sound', 'audio', 'music', 'acoustic', 'sonic'],\n",
    "    'Video': ['video', 'film', 'footage', 'streaming', 'broadcast'],\n",
    "    'Image': ['image', 'picture', 'photo', 'graphics', 'visualization'],\n",
    "    'NA/Ops/Support': ['operations', 'support', 'maintenance', 'logistics', 'infrastructure']\n",
    "}\n",
    "\n",
    "def label_description(description, category_keywords):\n",
    "    # Standaard label als geen sleutelwoorden gevonden worden\n",
    "    label = 'Uncategorized'\n",
    "    \n",
    "    # Zoek door elke categorie en bijbehorende sleutelwoorden\n",
    "    for category, keywords in category_keywords.items():\n",
    "        if any(keyword.lower() in description.lower() for keyword in keywords):\n",
    "            label = category\n",
    "            break  # Stop als een sleutelwoord gevonden is\n",
    "    \n",
    "    return label\n",
    "\n",
    "# Pas de labelbeschrijvingsfunctie toe op elke rij in de dataframe\n",
    "predicted_labels = df['cleaned_description'].apply(lambda desc: label_description(desc, category_keywords))\n",
    "\n",
    "# Voeg de voorspelde labels toe aan de dataframe\n",
    "df['predicted_label'] = predicted_labels\n",
    "\n",
    "# Bereken de nauwkeurigheid als het percentage van de juiste voorspellingen\n",
    "accuracy = (df['predicted_label'] == df['type of output modality']).mean()\n",
    "\n",
    "print(f'Accuracy of keyword-based classification: {accuracy}')\n",
    "accuracy"
   ]
  },
  {
   "cell_type": "code",
   "execution_count": 96,
   "metadata": {},
   "outputs": [
    {
     "name": "stdout",
     "output_type": "stream",
     "text": [
      "Aantal beschrijvingen zonder sleutelwoorden: 93\n"
     ]
    }
   ],
   "source": [
    "import numpy as np\n",
    "\n",
    "def check_keywords(description, category_keywords):\n",
    "    # Controleer of er ten minste één sleutelwoord in de beschrijving staat\n",
    "    for keywords in category_keywords.values():\n",
    "        if any(keyword.lower() in description.lower() for keyword in keywords):\n",
    "            return description  # Keer terug met de originele beschrijving als een sleutelwoord gevonden is\n",
    "    return np.nan  # Keer terug met NaN als geen sleutelwoorden gevonden zijn\n",
    "\n",
    "# Pas de functie toe op elke beschrijving in de dataframe\n",
    "df['description_with_keywords'] = df['cleaned_description'].apply(lambda desc: check_keywords(desc, category_keywords))\n",
    "\n",
    "# Controleer hoeveel beschrijvingen NaN zijn omdat ze geen sleutelwoorden bevatten\n",
    "nan_count = df['description_with_keywords'].isna().sum()\n",
    "print(f'Aantal beschrijvingen zonder sleutelwoorden: {nan_count}')\n"
   ]
  },
  {
   "cell_type": "code",
   "execution_count": 97,
   "metadata": {},
   "outputs": [
    {
     "name": "stdout",
     "output_type": "stream",
     "text": [
      "290\n"
     ]
    }
   ],
   "source": [
    "#how many descriptions \n",
    "print(df['description_with_keywords'].notnull().sum())"
   ]
  },
  {
   "cell_type": "markdown",
   "metadata": {},
   "source": [
    "The accuracy was low so the decision was made to select based on the API of OpenAI to use for classifying the tools for its use case."
   ]
  },
  {
   "cell_type": "markdown",
   "metadata": {},
   "source": [
    "### Classifying with Natural Language Processing OpenAI API"
   ]
  },
  {
   "cell_type": "markdown",
   "metadata": {},
   "source": [
    "####  OpenAI classifier costs money, so not decided to do"
   ]
  },
  {
   "cell_type": "code",
   "execution_count": null,
   "metadata": {},
   "outputs": [],
   "source": [
    "def classify_descriptions(data):\n",
    "    descriptions = data['desc'].tolist()\n",
    "\n",
    "    category_predictions = []\n",
    "    for description in descriptions:  \n",
    "        try:\n",
    "            completion = openai.ChatCompletion.create(\n",
    "                model=\"gpt-3.5-turbo\",\n",
    "                messages=[\n",
    "                    {\"role\": \"system\", \"content\": \"You are an assistant. Your task is to classify product descriptions into categories. Respond with only the category number.\"},\n",
    "                    {\"role\": \"user\", \"content\": description}\n",
    "                ]\n",
    "            )\n",
    "            category_number = completion.choices[0].message['content'].strip()\n",
    "            category_predictions.append(category_number)\n",
    "        except Exception as e:\n",
    "            print(f\"Er is een fout opgetreden: {e}\")\n",
    "            category_predictions.append(\"Error\")\n",
    "\n",
    "    return category_predictions\n",
    "\n",
    "category_preds = classify_descriptions(data)\n",
    "data['predicted_category'] = category_preds\n",
    "\n"
   ]
  },
  {
   "cell_type": "markdown",
   "metadata": {},
   "source": [
    "Adding amount of review per tool"
   ]
  },
  {
   "cell_type": "code",
   "execution_count": null,
   "metadata": {},
   "outputs": [],
   "source": [
    "# Tel het aantal reviews per tool_id\n",
    "review_counts = data2.groupby('tool_id')['review_id'].count()\n",
    "\n",
    "# Pak de eerste all_time_score per tool_id\n",
    "first_scores = data2.groupby('tool_id')['all_time_score'].first()\n",
    "\n",
    "# Voeg deze informatie toe aan new_df\n",
    "new_df['review_count'] = new_df['tool_id'].map(review_counts)\n",
    "new_df['first_all_time_score'] = new_df['tool_id'].map(first_scores)"
   ]
  },
  {
   "cell_type": "markdown",
   "metadata": {},
   "source": [
    "# Conclusion\n",
    "\n",
    "\n",
    "We will continue with another way of processing large language models. OpenAI costs money and keyword filtering is not working properly. "
   ]
  }
 ],
 "metadata": {
  "kernelspec": {
   "display_name": "base",
   "language": "python",
   "name": "python3"
  },
  "language_info": {
   "codemirror_mode": {
    "name": "ipython",
    "version": 3
   },
   "file_extension": ".py",
   "mimetype": "text/x-python",
   "name": "python",
   "nbconvert_exporter": "python",
   "pygments_lexer": "ipython3",
   "version": "3.11.3"
  }
 },
 "nbformat": 4,
 "nbformat_minor": 2
}
