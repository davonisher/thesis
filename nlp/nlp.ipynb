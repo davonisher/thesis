{
 "cells": [
  {
   "cell_type": "markdown",
   "metadata": {},
   "source": [
    "# Libraries\n"
   ]
  },
  {
   "cell_type": "code",
   "execution_count": 1,
   "metadata": {},
   "outputs": [],
   "source": [
    "import pandas as pd\n",
    "import numpy as np\n",
    "import matplotlib.pyplot as plt\n",
    "import seaborn as sns\n",
    "import os\n",
    "import re\n",
    "import datetime\n",
    "import psycopg2"
   ]
  },
  {
   "cell_type": "markdown",
   "metadata": {},
   "source": [
    "# 1. Introduction\n",
    "\n",
    "In this project, our aim is to implement a number of machine learning models to answer  our research question on the AI Tools  dataset.\n",
    "\n",
    "- Research Question: Which predictors and criterion contribute to a good predictive model for AI tool success?\n",
    "\n",
    "During this theis project we consolidate the knowledge by building a variety of machine learning models independently."
   ]
  },
  {
   "cell_type": "markdown",
   "metadata": {},
   "source": [
    "# Prelimenary Data Exploration"
   ]
  },
  {
   "cell_type": "markdown",
   "metadata": {},
   "source": [
    "A lot of data has been gathered with a lot of features. For the research the features that will be analyzed will be selected."
   ]
  },
  {
   "cell_type": "code",
   "execution_count": 28,
   "metadata": {},
   "outputs": [
    {
     "name": "stderr",
     "output_type": "stream",
     "text": [
      "/var/folders/lz/910twyk903nb6sxfgz54bngc0000gn/T/ipykernel_8748/1714893796.py:5: DtypeWarning: Columns (13,18,21) have mixed types. Specify dtype option on import or set low_memory=False.\n",
      "  gen = pd.read_csv(file_path1)\n"
     ]
    }
   ],
   "source": [
    "# load data\n",
    "file_path1 = '/Users/macbook/thesis/new/code/data/processed_data/final.csv'\n",
    "file_path2 = '/Users/macbook/thesis/new/code/data/processed_data/reviews_data.csv'\n",
    "\n",
    "gen = pd.read_csv(file_path1)\n",
    "rev = pd.read_csv(file_path2)\n"
   ]
  },
  {
   "cell_type": "code",
   "execution_count": 29,
   "metadata": {},
   "outputs": [],
   "source": [
    "#merge two datasets on tool_id\n",
    "df_fin = pd.merge(gen, rev, on='tool_id', how='left')"
   ]
  },
  {
   "cell_type": "code",
   "execution_count": 8,
   "metadata": {},
   "outputs": [
    {
     "name": "stdout",
     "output_type": "stream",
     "text": [
      "(50705, 13)\n",
      "(10569, 69)\n",
      "(50359, 81)\n"
     ]
    }
   ],
   "source": [
    "print(rev.shape)\n",
    "print(gen.shape)\n",
    "print(df_fin.shape)"
   ]
  },
  {
   "cell_type": "markdown",
   "metadata": {},
   "source": [
    "# 5.  Natural Language Processing"
   ]
  },
  {
   "cell_type": "markdown",
   "metadata": {},
   "source": [
    "Results are based on classifier 11 from the local_llm folder  -> classifier.py\n",
    "\n",
    "Please refer to /Users/macbook/thesis/classifier for the Modelfile."
   ]
  },
  {
   "cell_type": "markdown",
   "metadata": {},
   "source": [
    "## Classifier 8"
   ]
  },
  {
   "cell_type": "code",
   "execution_count": 17,
   "metadata": {},
   "outputs": [
    {
     "name": "stdout",
     "output_type": "stream",
     "text": [
      "Accuracy of the LLM's predictions with classifier 8 is: 27.85%\n",
      "    tool_id top_two_categories  actual_category  highest_category  \\\n",
      "0    8720.0   1: 0.95, 6: 0.75              1.0               1.0   \n",
      "1    7985.0  10: 0.95, 3: 0.87              3.0              10.0   \n",
      "2    8200.0   9: 0.98, 0: 0.95              9.0               9.0   \n",
      "3    8872.0   8: 0.90, 3: 0.85              4.0               8.0   \n",
      "4    8591.0   7: 0.98, 0: 0.95              7.0               7.0   \n",
      "..      ...                ...              ...               ...   \n",
      "74   9026.0   1: 0.95, 6: 0.85              3.0               1.0   \n",
      "75   1071.0   1: 0.95, 4: 0.75              3.0               1.0   \n",
      "76   6769.0   6: 0.98, 1: 0.95              3.0               6.0   \n",
      "77   8503.0   7: 0.98, 8: 0.95              8.0               7.0   \n",
      "78   7467.0   1: 0.95, 3: 0.84              3.0               1.0   \n",
      "\n",
      "    is_correct_prediction  \n",
      "0                    True  \n",
      "1                   False  \n",
      "2                    True  \n",
      "3                   False  \n",
      "4                    True  \n",
      "..                    ...  \n",
      "74                  False  \n",
      "75                  False  \n",
      "76                  False  \n",
      "77                  False  \n",
      "78                  False  \n",
      "\n",
      "[79 rows x 5 columns]\n",
      "The LLM's predictions are not accurate enough for this task.\n"
     ]
    }
   ],
   "source": [
    "import pandas as pd\n",
    "import re\n",
    "\n",
    "# Load the dataset\n",
    "data = pd.read_csv('/Users/macbook/thesis/new/code/data/processed_data/classified_data.csv')\n",
    "\n",
    "# Assuming the LLM responses are in a column named 'llm_response'. Adjust if it's different.\n",
    "if 'llm_response' not in data.columns:\n",
    "    raise ValueError(\"The column 'llm_response' does not exist in the dataset.\")\n",
    "\n",
    "def extract_top_two_categories(response):\n",
    "    category_probs = re.findall(r'(\\d+): (\\d\\.\\d+)', response)\n",
    "    if not category_probs:\n",
    "        return [(\"Error\", 0), (\"Error\", 0)]\n",
    "\n",
    "    category_probs.sort(key=lambda x: x[1], reverse=True)\n",
    "    return category_probs[:2]\n",
    "\n",
    "# Extract top two categories from the LLM responses\n",
    "top_two_category_preds = [extract_top_two_categories(resp) for resp in data['llm_response']]\n",
    "\n",
    "# Create new columns for top two categories and the category with the highest probability\n",
    "data['top_two_categories'] = [f\"{cat1[0]}: {cat1[1]}, {cat2[0]}: {cat2[1]}\" for cat1, cat2 in top_two_category_preds]\n",
    "data['highest_category'] = [cats[0][0] for cats in top_two_category_preds]\n",
    "\n",
    "# Convert both columns to the same data type for accurate comparison\n",
    "data['highest_category'] = data['highest_category'].astype(str)\n",
    "data['actual_category'] = data['actual_category'].astype(str)\n",
    "\n",
    "# Convert both columns to the same data type for accurate comparison\n",
    "data['highest_category'] = data['highest_category'].astype(float)\n",
    "data['actual_category'] = data['actual_category'].astype(float)\n",
    "\n",
    "# Add a column for comparison\n",
    "data['is_correct_prediction'] = data['highest_category'] == data['actual_category']\n",
    "\n",
    "# Calculate accuracy\n",
    "accuracy = data['is_correct_prediction'].mean()\n",
    "\n",
    "# Display the results\n",
    "print(f\"Accuracy of the LLM's predictions with classifier 8 is: {accuracy:.2%}\")\n",
    "print(data[['tool_id', 'top_two_categories', 'actual_category', 'highest_category', 'is_correct_prediction']])\n",
    "\n",
    "# Decision based on accuracy\n",
    "if accuracy > 0.7:\n",
    "    print(\"The LLM's predictions are accurate enough for this task.\")\n",
    "else:\n",
    "    print(\"The LLM's predictions are not accurate enough for this task.\")\n"
   ]
  },
  {
   "cell_type": "markdown",
   "metadata": {},
   "source": [
    "## Classifier 10"
   ]
  },
  {
   "cell_type": "code",
   "execution_count": null,
   "metadata": {},
   "outputs": [
    {
     "name": "stdout",
     "output_type": "stream",
     "text": [
      "Accuracy of the LLM's predictions with classifier 10 is: 42.31%\n",
      "    tool_id top_two_categories  actual_category  highest_category  \\\n",
      "0      8720   1: 0.98, 4: 0.75              1.0               1.0   \n",
      "1      8200   9: 0.98, 0: 0.95              9.0               9.0   \n",
      "2      8591   7: 0.99, 0: 0.95              7.0               7.0   \n",
      "3      6586   0: 0.95, 9: 0.05              0.0               0.0   \n",
      "4      4737   3: 0.45, 2: 0.30              4.0               3.0   \n",
      "..      ...                ...              ...               ...   \n",
      "73    11428   8: 0.99, 7: 0.98              8.0               8.0   \n",
      "74    11440   7: 0.85, 8: 0.50              8.0               7.0   \n",
      "75    11449   6: 0.98, 1: 0.05              0.0               6.0   \n",
      "76    11457   6: 0.98, 4: 0.95              5.0               6.0   \n",
      "77    11476   2: 0.95, 1: 0.02              2.0               2.0   \n",
      "\n",
      "    is_correct_prediction  \n",
      "0                    True  \n",
      "1                    True  \n",
      "2                    True  \n",
      "3                    True  \n",
      "4                   False  \n",
      "..                    ...  \n",
      "73                   True  \n",
      "74                  False  \n",
      "75                  False  \n",
      "76                  False  \n",
      "77                   True  \n",
      "\n",
      "[78 rows x 5 columns]\n",
      "The LLM's predictions are not accurate enough for this task.\n"
     ]
    }
   ],
   "source": [
    "# Load the dataset\n",
    "data = pd.read_csv('/Users/macbook/thesis/new/code/data/processed_data/classified_data_test.csv')\n",
    "\n",
    "# Assuming the LLM responses are in a column named 'llm_response'. Adjust if it's different.\n",
    "if 'llm_response' not in data.columns:\n",
    "    raise ValueError(\"The column 'llm_response' does not exist in the dataset.\")\n",
    "\n",
    "def extract_top_two_categories(response):\n",
    "    category_probs = re.findall(r'(\\d+): (\\d\\.\\d+)', response)\n",
    "    if not category_probs:\n",
    "        return [(\"Error\", 0), (\"Error\", 0)]\n",
    "\n",
    "    category_probs.sort(key=lambda x: x[1], reverse=True)\n",
    "    return category_probs[:2]\n",
    "\n",
    "# Extract top two categories from the LLM responses\n",
    "top_two_category_preds = [extract_top_two_categories(resp) for resp in data['llm_response']]\n",
    "\n",
    "# Create new columns for top two categories and the category with the highest probability\n",
    "data['top_two_categories'] = [f\"{cat1[0]}: {cat1[1]}, {cat2[0]}: {cat2[1]}\" for cat1, cat2 in top_two_category_preds]\n",
    "data['highest_category'] = [cats[0][0] for cats in top_two_category_preds]\n",
    "\n",
    "# Convert both columns to the same data type for accurate comparison\n",
    "data['highest_category'] = data['highest_category'].astype(str)\n",
    "data['actual_category'] = data['actual_category'].astype(str)\n",
    "\n",
    "# Convert both columns to the same data type for accurate comparison\n",
    "data['highest_category'] = data['highest_category'].astype(float)\n",
    "data['actual_category'] = data['actual_category'].astype(float)\n",
    "\n",
    "# Add a column for comparison\n",
    "data['is_correct_prediction'] = data['highest_category'] == data['actual_category']\n",
    "\n",
    "# Calculate accuracy\n",
    "accuracy = data['is_correct_prediction'].mean()\n",
    "\n",
    "# Display the results\n",
    "print(f\"Accuracy of the LLM's predictions with classifier 10 is: {accuracy:.2%}\")\n",
    "print(data[['tool_id', 'top_two_categories', 'actual_category', 'highest_category', 'is_correct_prediction']])\n",
    "\n",
    "# Decision based on accuracy\n",
    "if accuracy > 0.7:\n",
    "    print(\"The LLM's predictions are accurate enough for this task.\")\n",
    "else:\n",
    "    print(\"The LLM's predictions are not accurate enough for this task.\")\n"
   ]
  },
  {
   "cell_type": "markdown",
   "metadata": {},
   "source": [
    "## Classifier 11"
   ]
  },
  {
   "cell_type": "code",
   "execution_count": null,
   "metadata": {},
   "outputs": [
    {
     "name": "stdout",
     "output_type": "stream",
     "text": [
      "Accuracy of the LLM's predictions with classifier 11 is: 74.36%\n",
      "    tool_id top_two_categories  actual_category  highest_category  \\\n",
      "0      8720   1: 0.98, 4: 0.75              1.0               1.0   \n",
      "1      8200   9: 0.98, 0: 0.95              9.0               9.0   \n",
      "2      8591   7: 0.99, 0: 0.95              7.0               7.0   \n",
      "3      6586   0: 0.95, 9: 0.05              0.0               0.0   \n",
      "4      4737   3: 0.45, 2: 0.30              4.0               3.0   \n",
      "..      ...                ...              ...               ...   \n",
      "73    11428   8: 0.99, 7: 0.98              8.0               8.0   \n",
      "74    11440   7: 0.85, 8: 0.50              8.0               7.0   \n",
      "75    11449   6: 0.98, 1: 0.05              0.0               6.0   \n",
      "76    11457   6: 0.98, 4: 0.95              5.0               6.0   \n",
      "77    11476   2: 0.95, 1: 0.02              2.0               2.0   \n",
      "\n",
      "    second_highest_category  is_correct_prediction  \n",
      "0                       4.0                   True  \n",
      "1                       0.0                   True  \n",
      "2                       0.0                   True  \n",
      "3                       9.0                   True  \n",
      "4                       2.0                  False  \n",
      "..                      ...                    ...  \n",
      "73                      7.0                   True  \n",
      "74                      8.0                   True  \n",
      "75                      1.0                  False  \n",
      "76                      4.0                  False  \n",
      "77                      1.0                   True  \n",
      "\n",
      "[78 rows x 6 columns]\n",
      "The LLM's predictions are accurate enough for this task.\n"
     ]
    }
   ],
   "source": [
    "# Load the dataset\n",
    "data = pd.read_csv('/Users/macbook/thesis/new/code/data/processed_data/classified_data_test.csv')\n",
    "\n",
    "# Assuming the LLM responses are in a column named 'llm_response'. Adjust if it's different.\n",
    "if 'llm_response' not in data.columns:\n",
    "    raise ValueError(\"The column 'llm_response' does not exist in the dataset.\")\n",
    "\n",
    "def extract_top_two_categories(response):\n",
    "    category_probs = re.findall(r'(\\d+): (\\d\\.\\d+)', response)\n",
    "    if not category_probs:\n",
    "        return [(\"Error\", 0), (\"Error\", 0)]\n",
    "\n",
    "    category_probs.sort(key=lambda x: x[1], reverse=True)\n",
    "    return category_probs[:2]\n",
    "\n",
    "# Extract top two categories from the LLM responses\n",
    "top_two_category_preds = [extract_top_two_categories(resp) for resp in data['llm_response']]\n",
    "\n",
    "# Create new columns for top two categories and the category with the highest probability\n",
    "data['top_two_categories'] = [f\"{cat1[0]}: {cat1[1]}, {cat2[0]}: {cat2[1]}\" for cat1, cat2 in top_two_category_preds]\n",
    "data['highest_category'] = [cats[0][0] for cats in top_two_category_preds]\n",
    "data['second_highest_category'] = [cats[1][0] for cats in top_two_category_preds]\n",
    "\n",
    "# Convert all columns to the same data type for accurate comparison\n",
    "data['highest_category'] = data['highest_category'].astype(float)\n",
    "data['second_highest_category'] = data['second_highest_category'].astype(float)\n",
    "data['actual_category'] = data['actual_category'].astype(float)\n",
    "\n",
    "# Add a column for comparison\n",
    "data['is_correct_prediction'] = data['highest_category'] == data['actual_category']\n",
    "\n",
    "# Calculate accuracy\n",
    "accuracy = data['is_correct_prediction'].mean()\n",
    "\n",
    "# Display the results\n",
    "print(f\"Accuracy of the LLM's predictions with classifier 10 is: {accuracy:.2%}\")\n",
    "print(data[['tool_id', 'top_two_categories', 'actual_category', 'highest_category', 'is_correct_prediction']])\n",
    "\n",
    "# Decision based on accuracy\n",
    "if accuracy > 0.7:\n",
    "    print(\"The LLM's predictions are accurate enough for this task.\")\n",
    "else:\n",
    "    print(\"The LLM's predictions are not accurate enough for this task.\")\n"
   ]
  },
  {
   "cell_type": "markdown",
   "metadata": {},
   "source": [
    "## 2. Converging to categories from LLM response"
   ]
  },
  {
   "cell_type": "markdown",
   "metadata": {},
   "source": [
    "####  <span style=\"color:green;font-weight:bold;\">Feature 5: Category </span>\n"
   ]
  },
  {
   "cell_type": "code",
   "execution_count": 3,
   "metadata": {},
   "outputs": [
    {
     "name": "stdout",
     "output_type": "stream",
     "text": [
      "     tool_id top_two_categories highest_category\n",
      "0       1329   0: 1.00, 9: 1.00                0\n",
      "1       8526   1: 0.98, 6: 0.95                1\n",
      "2       8870   1: 0.95, 3: 0.04                1\n",
      "3       4242  10: 0.95, 3: 0.60               10\n",
      "4       8578   8: 0.95, 2: 0.80                8\n",
      "..       ...                ...              ...\n",
      "995     7586   7: 0.98, 2: 0.05                7\n",
      "996     4269   1: 0.95, 4: 0.85                1\n",
      "997     8028   3: 0.95, 2: 0.05                3\n",
      "998     4581   1: 0.95, 3: 0.04                1\n",
      "999     8310   1: 0.95, 6: 0.08                1\n",
      "\n",
      "[1000 rows x 3 columns]\n",
      "highest_category\n",
      "1     296\n",
      "3     247\n",
      "8     102\n",
      "6      86\n",
      "2      68\n",
      "9      65\n",
      "7      61\n",
      "10     29\n",
      "0      21\n",
      "5      19\n",
      "4       6\n",
      "Name: count, dtype: int64\n"
     ]
    }
   ],
   "source": [
    "import pandas as pd\n",
    "import re\n",
    "\n",
    "# Load the dataset\n",
    "data2 = pd.read_csv('/Users/macbook/thesis/new/code/data/processed_data/cd2.csv')\n",
    "\n",
    "# Assuming the LLM responses are in a column named 'llm_response'. Adjust if it's different.\n",
    "if 'llm_response' not in data2.columns:\n",
    "    raise ValueError(\"The column 'llm_response' does not exist in the dataset.\")\n",
    "\n",
    "def extract_top_two_categories(response):\n",
    "    category_probs = re.findall(r'(\\d+): (\\d\\.\\d+)', response)\n",
    "    if not category_probs:\n",
    "        return [(\"Error\", 0), (\"Error\", 0)]\n",
    "\n",
    "    category_probs.sort(key=lambda x: x[1], reverse=True)\n",
    "    return category_probs[:2]\n",
    "\n",
    "# Extract top two categories from the LLM responses\n",
    "top_two_category_preds = [extract_top_two_categories(resp) for resp in data2['llm_response']]\n",
    "\n",
    "# Create new columns for top two categories and the category with the highest probability\n",
    "data2['top_two_categories'] = [f\"{cat1[0]}: {cat1[1]}, {cat2[0]}: {cat2[1]}\" for cat1, cat2 in top_two_category_preds]\n",
    "data2['highest_category'] = [cats[0][0] for cats in top_two_category_preds]\n",
    "\n",
    "# Convert both columns to the same data type for accurate comparison\n",
    "data2['highest_category'] = data2['highest_category'].astype(str)\n",
    "\n",
    "# Convert both columns to the same data type for accurate comparison\n",
    "\n",
    "print(data2[['tool_id', 'top_two_categories','highest_category']])\n",
    "\n",
    "#count values of highest category\n",
    "print(data2['highest_category'].value_counts())"
   ]
  },
  {
   "cell_type": "markdown",
   "metadata": {},
   "source": [
    "Merging LLM predictions with main dataset"
   ]
  },
  {
   "cell_type": "code",
   "execution_count": 12,
   "metadata": {},
   "outputs": [
    {
     "data": {
      "image/png": "[encoded data removed]",
      "text/plain": [
       "<Figure size 640x480 with 1 Axes>"
      ]
     },
     "metadata": {},
     "output_type": "display_data"
    }
   ],
   "source": [
    "# Visualize highest category in descending order\n",
    "sns.set(style=\"dark\")\n",
    "ax = sns.countplot(x=\"highest_category\", data=data2, order=data2['highest_category'].value_counts().index)\n",
    "ax.set(xlabel=\"Category\")\n",
    "plt.show()\n"
   ]
  },
  {
   "cell_type": "code",
   "execution_count": 27,
   "metadata": {},
   "outputs": [],
   "source": [
    "# keep only the highest category \n",
    "data2['category'] = data2['highest_category']\n",
    "data2['category'] = data2['category'].astype(int)\n",
    "data2 = data2[['tool_id', 'category']]\n",
    "\n",
    "# combine the two datasets\n",
    "combined_data = pd.concat([data, data2]).drop_duplicates(subset='tool_id')"
   ]
  },
  {
   "cell_type": "code",
   "execution_count": 40,
   "metadata": {},
   "outputs": [],
   "source": [
    "#keep tool_id and category\n",
    "df = pd.merge(df, combined_data, on='tool_id', how='left')"
   ]
  },
  {
   "cell_type": "code",
   "execution_count": 43,
   "metadata": {},
   "outputs": [
    {
     "name": "stdout",
     "output_type": "stream",
     "text": [
      "1283\n"
     ]
    }
   ],
   "source": [
    "# count amount of rows filled with category\n",
    "df['category'].value_counts()\n",
    "print(df['category'].notnull().sum())\n",
    "\n",
    "df.to_csv('/Users/macbook/thesis/new/code/data/processed_data/category_df2.csv', index=False)"
   ]
  },
  {
   "cell_type": "code",
   "execution_count": 36,
   "metadata": {},
   "outputs": [
    {
     "ename": "NumericValueOutOfRange",
     "evalue": "integer out of range\n",
     "output_type": "error",
     "traceback": [
      "\u001b[0;31m---------------------------------------------------------------------------\u001b[0m",
      "\u001b[0;31mNumericValueOutOfRange\u001b[0m                    Traceback (most recent call last)",
      "Cell \u001b[0;32mIn[36], line 16\u001b[0m\n\u001b[1;32m     14\u001b[0m \u001b[38;5;66;03m# Iterate over DataFrame and update the database\u001b[39;00m\n\u001b[1;32m     15\u001b[0m \u001b[38;5;28;01mfor\u001b[39;00m index, row \u001b[38;5;129;01min\u001b[39;00m df\u001b[38;5;241m.\u001b[39miterrows():\n\u001b[0;32m---> 16\u001b[0m     cur\u001b[38;5;241m.\u001b[39mexecute(\u001b[38;5;124m\"\u001b[39m\u001b[38;5;124mUPDATE tool_category SET application_type = \u001b[39m\u001b[38;5;132;01m%s\u001b[39;00m\u001b[38;5;124m WHERE tool_id = \u001b[39m\u001b[38;5;132;01m%s\u001b[39;00m\u001b[38;5;124m\"\u001b[39m, \n\u001b[1;32m     17\u001b[0m                 (row[\u001b[38;5;124m'\u001b[39m\u001b[38;5;124mcategory\u001b[39m\u001b[38;5;124m'\u001b[39m], row[\u001b[38;5;124m'\u001b[39m\u001b[38;5;124mtool_id\u001b[39m\u001b[38;5;124m'\u001b[39m]))\n\u001b[1;32m     19\u001b[0m \u001b[38;5;66;03m# Commit changes and close the connection\u001b[39;00m\n\u001b[1;32m     20\u001b[0m conn\u001b[38;5;241m.\u001b[39mcommit()\n",
      "\u001b[0;31mNumericValueOutOfRange\u001b[0m: integer out of range\n"
     ]
    }
   ],
   "source": [
    "# code retrieved from https://www.datacamp.com/community/tutorials/tutorial-postgresql-python\n",
    "\n",
    "\n",
    "# Connect to the database\n",
    "conn = psycopg2.connect(host=\"localhost\",database=\"1\", user=\"postgres\", password=\"katse\")\n",
    "\n",
    "# Create a cursor object\n",
    "cur = conn.cursor()\n",
    "\n",
    "# Iterate over DataFrame and update the database\n",
    "for index, row in df.iterrows():\n",
    "    cur.execute(\"UPDATE tool_category SET application_type = %s WHERE tool_id = %s\", \n",
    "                (row['category'], row['tool_id']))\n",
    "\n",
    "# Commit changes and close the connection\n",
    "conn.commit()\n",
    "cur.close()\n",
    "conn.close()"
   ]
  },
  {
   "cell_type": "markdown",
   "metadata": {},
   "source": [
    "# Conclusion\n",
    "\n",
    "\n",
    "Classifier 11 has an accuracy of 74%, so we will use that for our analysis.\n",
    "\n",
    "Results are based on classifier 11 from the local_llm folder  -> classifier.py\n",
    "\n",
    "Please refer to /Users/macbook/thesis/classifier for the Modelfile."
   ]
  }
 ],
 "metadata": {
  "kernelspec": {
   "display_name": "base",
   "language": "python",
   "name": "python3"
  },
  "language_info": {
   "codemirror_mode": {
    "name": "ipython",
    "version": 3
   },
   "file_extension": ".py",
   "mimetype": "text/x-python",
   "name": "python",
   "nbconvert_exporter": "python",
   "pygments_lexer": "ipython3",
   "version": "3.11.3"
  }
 },
 "nbformat": 4,
 "nbformat_minor": 2
}
